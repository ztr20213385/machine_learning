{
 "cells": [
  {
   "cell_type": "markdown",
   "metadata": {
    "collapsed": false,
    "jupyter": {
     "outputs_hidden": false
    }
   },
   "source": [
    "## step1：导入必要的库文件"
   ]
  },
  {
   "cell_type": "code",
   "execution_count": null,
   "metadata": {
    "ExecuteTime": {
     "end_time": "2023-12-22T21:49:49.991608Z",
     "start_time": "2023-12-22T21:49:49.956607Z"
    },
    "collapsed": false,
    "jupyter": {
     "outputs_hidden": false
    }
   },
   "outputs": [],
   "source": [
    "from sklearn.linear_model import LogisticRegression\n",
    "from sklearn.model_selection import train_test_split\n",
    "from sklearn.metrics import accuracy_score, recall_score, f1_score, roc_auc_score\n",
    "import pandas as pd"
   ]
  },
  {
   "cell_type": "markdown",
   "metadata": {
    "collapsed": false,
    "jupyter": {
     "outputs_hidden": false
    }
   },
   "source": [
    "## step2：确定文件路径\n",
    "指定Income.data文件。"
   ]
  },
  {
   "cell_type": "code",
   "execution_count": null,
   "metadata": {
    "ExecuteTime": {
     "end_time": "2023-12-22T21:49:50.030609Z",
     "start_time": "2023-12-22T21:49:49.965609Z"
    },
    "collapsed": false,
    "jupyter": {
     "outputs_hidden": false
    }
   },
   "outputs": [],
   "source": [
    "train_file_path='Income.data'"
   ]
  },
  {
   "cell_type": "markdown",
   "metadata": {
    "collapsed": false,
    "jupyter": {
     "outputs_hidden": false
    }
   },
   "source": [
    "## step3：为文件添加表头\n",
    "指定Income.data文件的表头（复制于process_data.py)。"
   ]
  },
  {
   "cell_type": "code",
   "execution_count": null,
   "metadata": {
    "ExecuteTime": {
     "end_time": "2023-12-22T21:49:50.032615Z",
     "start_time": "2023-12-22T21:49:49.982622Z"
    },
    "collapsed": false,
    "jupyter": {
     "outputs_hidden": false
    }
   },
   "outputs": [],
   "source": [
    "header = [\"age\", \"workclass\", \"fnlwgt\", \"education\", \"education-num\", \"marital-status\", \"occupation\", \"relationship\",\"race\", \"sex\", \"capital-gain\", \"capital-loss\", \"hours-per-week\", \"native-country\", \"label\"]"
   ]
  },
  {
   "cell_type": "markdown",
   "metadata": {
    "collapsed": false,
    "jupyter": {
     "outputs_hidden": false
    }
   },
   "source": [
    "## step4：变量划分并预处理\n",
    "将Income.data文件读入，并消除前导空格。\n",
    "若文件中出现缺失值（‘？’），则用NaN代替。\n",
    "求出含有缺失值的行数。\n",
    "若未超过总数的10%，则删去含有缺失值的行，否则用平均值填充。\n",
    "根据是否是label（答案）将训练集划分成自变量（train_X）和因变量（train_Y)。"
   ]
  },
  {
   "cell_type": "code",
   "execution_count": null,
   "metadata": {
    "ExecuteTime": {
     "end_time": "2023-12-22T21:49:50.108826Z",
     "start_time": "2023-12-22T21:49:49.997605Z"
    },
    "collapsed": false,
    "jupyter": {
     "outputs_hidden": false
    }
   },
   "outputs": [],
   "source": [
    "train_data=pd.read_csv(train_file_path,names=header,delimiter=',',skipinitialspace=True)##需要skipinitialspace=True来消除前导空格\n",
    "\n",
    "train_data.replace(\"?\", pd.NA, inplace=True)\n",
    "\n",
    "missing_values_count =train_data[train_data.isnull().any(axis=1)].shape[0]\n",
    "#print(missing_values_count)\n",
    "if(missing_values_count/train_data.size<=0.1):\n",
    "    print(\"未超过总数的10%，则删去含有缺失值的行\")\n",
    "    train_data.dropna(inplace=True)\n",
    "else:\n",
    "    # 使用均值填充\n",
    "    train_data.fillna(train_data.mean(), inplace=True)\n",
    "    print(\"超过总数的10%，则删用平均值填充\")\n",
    "\n",
    "#missing_values_count =train_data[train_data.isnull().any(axis=1)].shape[0]\n",
    "#print(missing_values_count)\n",
    "train_X=train_data.drop(\"label\",axis=1)\n",
    "train_Y=train_data[\"label\"]"
   ]
  },
  {
   "cell_type": "markdown",
   "metadata": {
    "collapsed": false,
    "jupyter": {
     "outputs_hidden": false
    }
   },
   "source": [
    "## step5：数据处理\n",
    "将数据处理为可以训练的形式。\n",
    "对因变量（train_Y），>50k的变量设为True，<=50的变量设为False。"
   ]
  },
  {
   "cell_type": "code",
   "execution_count": null,
   "metadata": {
    "ExecuteTime": {
     "end_time": "2023-12-22T21:49:50.125829Z",
     "start_time": "2023-12-22T21:49:50.108826Z"
    },
    "collapsed": false,
    "jupyter": {
     "outputs_hidden": false
    }
   },
   "outputs": [],
   "source": [
    "print(train_Y)\n",
    "train_Y = (train_Y == \">50K\")\n",
    "print(train_Y.value_counts())"
   ]
  },
  {
   "cell_type": "markdown",
   "metadata": {
    "collapsed": false,
    "jupyter": {
     "outputs_hidden": false
    }
   },
   "source": [
    "对自变量（train_X）进行处理。"
   ]
  },
  {
   "cell_type": "code",
   "execution_count": null,
   "metadata": {
    "ExecuteTime": {
     "end_time": "2023-12-22T21:49:50.211835Z",
     "start_time": "2023-12-22T21:49:50.121827Z"
    },
    "collapsed": false,
    "jupyter": {
     "outputs_hidden": false
    }
   },
   "outputs": [],
   "source": [
    "categorical_cols = train_X.select_dtypes(include='object').columns\n",
    "train_X = pd.get_dummies(train_X, columns=categorical_cols)\n",
    "print(train_X)"
   ]
  },
  {
   "cell_type": "markdown",
   "metadata": {
    "collapsed": false,
    "jupyter": {
     "outputs_hidden": false
    }
   },
   "source": [
    "## step6：训练模型\n",
    "将训练集的自变量和因变量输入给model，调用fit函数进行模型训练。"
   ]
  },
  {
   "cell_type": "code",
   "execution_count": null,
   "metadata": {
    "ExecuteTime": {
     "end_time": "2023-12-22T21:49:50.701644Z",
     "start_time": "2023-12-22T21:49:50.169826Z"
    },
    "collapsed": false,
    "jupyter": {
     "outputs_hidden": false
    }
   },
   "outputs": [],
   "source": [
    "model = LogisticRegression()\n",
    "result_model=model.fit(train_X,train_Y)"
   ]
  },
  {
   "cell_type": "markdown",
   "metadata": {
    "collapsed": false,
    "jupyter": {
     "outputs_hidden": false
    }
   },
   "source": [
    "## step6：发现关系和刻画\n",
    "调用coef_函数，获取coefficients系数"
   ]
  },
  {
   "cell_type": "code",
   "execution_count": null,
   "metadata": {
    "ExecuteTime": {
     "end_time": "2023-12-22T21:49:50.720644Z",
     "start_time": "2023-12-22T21:49:50.698644Z"
    },
    "collapsed": false,
    "jupyter": {
     "outputs_hidden": false
    }
   },
   "outputs": [],
   "source": [
    "# 获取coefficients系数\n",
    "coefficients = model.coef_\n",
    "\n",
    "feature_names = train_X.columns if hasattr(train_X, 'columns') else [f'feature_{i}' for i in range(len(train_X[0]))]\n",
    "for feature, coefficient in zip(feature_names, coefficients[0]):\n",
    "    print(f\"{feature}: {coefficient}\")"
   ]
  },
  {
   "cell_type": "markdown",
   "metadata": {
    "collapsed": false,
    "jupyter": {
     "outputs_hidden": false
    }
   },
   "source": [
    "调用summary()函数，获取summary，进行模型刻画"
   ]
  },
  {
   "cell_type": "code",
   "execution_count": null,
   "metadata": {
    "collapsed": false,
    "jupyter": {
     "outputs_hidden": false
    }
   },
   "outputs": [],
   "source": [
    "# 获取summary\n",
    "model_summary = result_model.summary()\n",
    "print(model_summary)"
   ]
  }
 ],
 "metadata": {
  "kernelspec": {
   "display_name": "Python 3 (ipykernel)",
   "language": "python",
   "name": "python3"
  },
  "language_info": {
   "codemirror_mode": {
    "name": "ipython",
    "version": 3
   },
   "file_extension": ".py",
   "mimetype": "text/x-python",
   "name": "python",
   "nbconvert_exporter": "python",
   "pygments_lexer": "ipython3",
   "version": "3.9.13"
  }
 },
 "nbformat": 4,
 "nbformat_minor": 4
}
